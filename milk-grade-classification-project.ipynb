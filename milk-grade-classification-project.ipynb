{
 "cells": [
  {
   "cell_type": "markdown",
   "metadata": {
    "papermill": {
     "duration": 0.016236,
     "end_time": "2021-05-04T22:29:25.485062",
     "exception": false,
     "start_time": "2021-05-04T22:29:25.468826",
     "status": "completed"
    },
    "tags": []
   },
   "source": [
    "# Milk Grade Classification"
   ]
  },
  {
   "cell_type": "code",
   "execution_count": 15,
   "metadata": {
    "_cell_guid": "b1076dfc-b9ad-4769-8c92-a6c4dae69d19",
    "_uuid": "8f2839f25d086af736a60e9eeb907d3b93b6e0e5",
    "execution": {
     "iopub.execute_input": "2021-05-04T22:29:25.587094Z",
     "iopub.status.busy": "2021-05-04T22:29:25.581565Z",
     "iopub.status.idle": "2021-05-04T22:29:26.839121Z",
     "shell.execute_reply": "2021-05-04T22:29:26.839599Z"
    },
    "papermill": {
     "duration": 1.281214,
     "end_time": "2021-05-04T22:29:26.839776",
     "exception": false,
     "start_time": "2021-05-04T22:29:25.558562",
     "status": "completed"
    },
    "scrolled": true,
    "tags": []
   },
   "outputs": [],
   "source": [
    "# This Python 3 environment comes with many helpful analytics libraries installed\n",
    "# It is defined by the kaggle/python Docker image: https://github.com/kaggle/docker-python\n",
    "# For example, here's several helpful packages to load\n",
    "\n",
    "import numpy as np # linear algebra\n",
    "import pandas as pd # data processing, CSV file I/O (e.g. pd.read_csv)\n",
    "\n",
    "import matplotlib.pyplot as plt #plotting\n",
    "%matplotlib inline\n",
    "\n",
    "plt.rcParams['figure.figsize'] = (15,10) #Set the default figure size\n",
    "plt.style.use('ggplot') #Set the plotting method\n",
    "\n",
    "from sklearn.model_selection import train_test_split #Split the data into train and test\n",
    "from sklearn.ensemble import RandomForestClassifier #Forest for prediction and regression\n",
    "from sklearn.metrics import mean_squared_error #Error testing\n",
    "from sklearn.metrics import classification_report #Report of Classification\n",
    "\n",
    "# Input data files are available in the read-only \"../input/\" directory\n",
    "# For example, running this (by clicking run or pressing Shift+Enter) will list all files under the input directory\n",
    "\n",
    "import os\n",
    "for dirname, _, filenames in os.walk('/kaggle/input'):\n",
    "    for filename in filenames:\n",
    "        print(os.path.join(dirname, filename))\n",
    "import numpy as nm\n",
    "import matplotlib.pyplot as plt \n",
    "import seaborn as sns\n",
    "from sklearn.model_selection import train_test_split\n",
    "from imblearn import over_sampling\n",
    "from sklearn.svm import SVC\n",
    "from sklearn.metrics import accuracy_score\n",
    "from sklearn.metrics import classification_report, confusion_matrix\n",
    "from sklearn.ensemble import RandomForestClassifier\n",
    "from sklearn.tree import DecisionTreeClassifier\n",
    "#from sklearn.ensemble import ExtraTreesClassifier from sklearn.model_selection import GridSearchCV from sklearn.model_selection import KFold import pickle\n",
    "\n",
    "#from sklearn.ensemble import ExtraTreeClassifier from sklearn.model_selection.GridSearchCV\n",
    "# You can write up to 20GB to the current directory (/kaggle/working/) that gets preserved as output when you create a version using \"Save & Run All\" \n",
    "# You can also write temporary files to /kaggle/temp/, but they won't be saved outside of the current session"
   ]
  },
  {
   "cell_type": "code",
   "execution_count": 16,
   "metadata": {
    "_cell_guid": "79c7e3d0-c299-4dcb-8224-4455121ee9b0",
    "_uuid": "d629ff2d2480ee46fbb7e2d37f6b5fab8052498a",
    "execution": {
     "iopub.execute_input": "2021-05-04T22:29:26.877809Z",
     "iopub.status.busy": "2021-05-04T22:29:26.877200Z",
     "iopub.status.idle": "2021-05-04T22:29:26.909462Z",
     "shell.execute_reply": "2021-05-04T22:29:26.909924Z"
    },
    "papermill": {
     "duration": 0.054495,
     "end_time": "2021-05-04T22:29:26.910074",
     "exception": false,
     "start_time": "2021-05-04T22:29:26.855579",
     "status": "completed"
    },
    "tags": []
   },
   "outputs": [
    {
     "data": {
      "text/html": [
       "<div>\n",
       "<style scoped>\n",
       "    .dataframe tbody tr th:only-of-type {\n",
       "        vertical-align: middle;\n",
       "    }\n",
       "\n",
       "    .dataframe tbody tr th {\n",
       "        vertical-align: top;\n",
       "    }\n",
       "\n",
       "    .dataframe thead th {\n",
       "        text-align: right;\n",
       "    }\n",
       "</style>\n",
       "<table border=\"1\" class=\"dataframe\">\n",
       "  <thead>\n",
       "    <tr style=\"text-align: right;\">\n",
       "      <th></th>\n",
       "      <th>pH</th>\n",
       "      <th>Temprature</th>\n",
       "      <th>Taste</th>\n",
       "      <th>Odor</th>\n",
       "      <th>Fat</th>\n",
       "      <th>Turbidity</th>\n",
       "      <th>Colour</th>\n",
       "      <th>Grade</th>\n",
       "    </tr>\n",
       "  </thead>\n",
       "  <tbody>\n",
       "    <tr>\n",
       "      <th>0</th>\n",
       "      <td>6.6</td>\n",
       "      <td>35</td>\n",
       "      <td>1</td>\n",
       "      <td>0</td>\n",
       "      <td>1</td>\n",
       "      <td>0</td>\n",
       "      <td>254</td>\n",
       "      <td>1.0</td>\n",
       "    </tr>\n",
       "    <tr>\n",
       "      <th>1</th>\n",
       "      <td>6.6</td>\n",
       "      <td>36</td>\n",
       "      <td>0</td>\n",
       "      <td>1</td>\n",
       "      <td>0</td>\n",
       "      <td>1</td>\n",
       "      <td>253</td>\n",
       "      <td>1.0</td>\n",
       "    </tr>\n",
       "    <tr>\n",
       "      <th>2</th>\n",
       "      <td>8.5</td>\n",
       "      <td>70</td>\n",
       "      <td>1</td>\n",
       "      <td>1</td>\n",
       "      <td>1</td>\n",
       "      <td>1</td>\n",
       "      <td>246</td>\n",
       "      <td>0.0</td>\n",
       "    </tr>\n",
       "    <tr>\n",
       "      <th>3</th>\n",
       "      <td>9.5</td>\n",
       "      <td>34</td>\n",
       "      <td>1</td>\n",
       "      <td>1</td>\n",
       "      <td>0</td>\n",
       "      <td>1</td>\n",
       "      <td>255</td>\n",
       "      <td>0.0</td>\n",
       "    </tr>\n",
       "    <tr>\n",
       "      <th>4</th>\n",
       "      <td>6.6</td>\n",
       "      <td>37</td>\n",
       "      <td>0</td>\n",
       "      <td>0</td>\n",
       "      <td>0</td>\n",
       "      <td>0</td>\n",
       "      <td>255</td>\n",
       "      <td>0.5</td>\n",
       "    </tr>\n",
       "  </tbody>\n",
       "</table>\n",
       "</div>"
      ],
      "text/plain": [
       "    pH  Temprature  Taste  Odor  Fat   Turbidity  Colour  Grade\n",
       "0  6.6          35      1     0     1          0     254    1.0\n",
       "1  6.6          36      0     1     0          1     253    1.0\n",
       "2  8.5          70      1     1     1          1     246    0.0\n",
       "3  9.5          34      1     1     0          1     255    0.0\n",
       "4  6.6          37      0     0     0          0     255    0.5"
      ]
     },
     "execution_count": 16,
     "metadata": {},
     "output_type": "execute_result"
    }
   ],
   "source": [
    "milk = pd.read_csv('Milk Grading(1).csv') #Get the milk dataset\n",
    "milk\n",
    "milk.head() #Take a peek at the milk"
   ]
  },
  {
   "cell_type": "markdown",
   "metadata": {
    "papermill": {
     "duration": 0.015689,
     "end_time": "2021-05-04T22:29:26.941285",
     "exception": false,
     "start_time": "2021-05-04T22:29:26.925596",
     "status": "completed"
    },
    "tags": []
   },
   "source": [
    "---"
   ]
  },
  {
   "cell_type": "markdown",
   "metadata": {
    "papermill": {
     "duration": 0.015523,
     "end_time": "2021-05-04T22:29:26.972554",
     "exception": false,
     "start_time": "2021-05-04T22:29:26.957031",
     "status": "completed"
    },
    "tags": []
   },
   "source": [
    "# Check for Null Values"
   ]
  },
  {
   "cell_type": "code",
   "execution_count": 44,
   "metadata": {
    "execution": {
     "iopub.execute_input": "2021-05-04T22:29:27.009584Z",
     "iopub.status.busy": "2021-05-04T22:29:27.009013Z",
     "iopub.status.idle": "2021-05-04T22:29:27.015169Z",
     "shell.execute_reply": "2021-05-04T22:29:27.015958Z"
    },
    "papermill": {
     "duration": 0.027945,
     "end_time": "2021-05-04T22:29:27.016256",
     "exception": false,
     "start_time": "2021-05-04T22:29:26.988311",
     "status": "completed"
    },
    "tags": []
   },
   "outputs": [
    {
     "name": "stdout",
     "output_type": "stream",
     "text": [
      "pH            False\n",
      "Temprature    False\n",
      "Taste         False\n",
      "Odor          False\n",
      "Fat           False\n",
      "Turbidity     False\n",
      "Colour        False\n",
      "Grade         False\n",
      "dtype: bool\n"
     ]
    }
   ],
   "source": [
    "print(milk.isnull().any()) #Check for null values"
   ]
  },
  {
   "cell_type": "markdown",
   "metadata": {
    "papermill": {
     "duration": 0.016143,
     "end_time": "2021-05-04T22:29:27.049740",
     "exception": false,
     "start_time": "2021-05-04T22:29:27.033597",
     "status": "completed"
    },
    "tags": []
   },
   "source": [
    "There are no null values."
   ]
  },
  {
   "cell_type": "markdown",
   "metadata": {},
   "source": [
    "milk.info()"
   ]
  },
  {
   "cell_type": "code",
   "execution_count": 46,
   "metadata": {},
   "outputs": [
    {
     "data": {
      "text/plain": [
       "pH            0\n",
       "Temprature    0\n",
       "Taste         0\n",
       "Odor          0\n",
       "Fat           0\n",
       "Turbidity     0\n",
       "Colour        0\n",
       "Grade         0\n",
       "dtype: int64"
      ]
     },
     "execution_count": 46,
     "metadata": {},
     "output_type": "execute_result"
    }
   ],
   "source": [
    "milk.isnull().sum()"
   ]
  },
  {
   "cell_type": "markdown",
   "metadata": {
    "papermill": {
     "duration": 0.016451,
     "end_time": "2021-05-04T22:29:27.082613",
     "exception": false,
     "start_time": "2021-05-04T22:29:27.066162",
     "status": "completed"
    },
    "tags": []
   },
   "source": [
    "---"
   ]
  },
  {
   "cell_type": "code",
   "execution_count": 50,
   "metadata": {},
   "outputs": [
    {
     "data": {
      "image/png": "[encoded data removed]",
      "text/plain": [
       "<Figure size 1500x1000 with 1 Axes>"
      ]
     },
     "metadata": {},
     "output_type": "display_data"
    }
   ],
   "source": [
    "sns.boxplot(milk['pH'])\n",
    "plt.title(\"pH\")\n",
    "plt.show()"
   ]
  },
  {
   "cell_type": "code",
   "execution_count": 45,
   "metadata": {},
   "outputs": [
    {
     "name": "stdout",
     "output_type": "stream",
     "text": [
      "<class 'pandas.core.frame.DataFrame'>\n",
      "RangeIndex: 1059 entries, 0 to 1058\n",
      "Data columns (total 8 columns):\n",
      " #   Column      Non-Null Count  Dtype  \n",
      "---  ------      --------------  -----  \n",
      " 0   pH          1059 non-null   float64\n",
      " 1   Temprature  1059 non-null   int64  \n",
      " 2   Taste       1059 non-null   int64  \n",
      " 3   Odor        1059 non-null   int64  \n",
      " 4   Fat         1059 non-null   int64  \n",
      " 5   Turbidity   1059 non-null   int64  \n",
      " 6   Colour      1059 non-null   int64  \n",
      " 7   Grade       1059 non-null   float64\n",
      "dtypes: float64(2), int64(6)\n",
      "memory usage: 66.3 KB\n"
     ]
    }
   ],
   "source": [
    "milk.info()\n"
   ]
  },
  {
   "cell_type": "markdown",
   "metadata": {
    "papermill": {
     "duration": 0.015987,
     "end_time": "2021-05-04T22:29:27.115271",
     "exception": false,
     "start_time": "2021-05-04T22:29:27.099284",
     "status": "completed"
    },
    "tags": []
   },
   "source": [
    "# Add a Column Putting Grade into Words"
   ]
  },
  {
   "cell_type": "code",
   "execution_count": 13,
   "metadata": {
    "execution": {
     "iopub.execute_input": "2021-05-04T22:29:27.152123Z",
     "iopub.status.busy": "2021-05-04T22:29:27.151479Z",
     "iopub.status.idle": "2021-05-04T22:29:27.166797Z",
     "shell.execute_reply": "2021-05-04T22:29:27.167257Z"
    },
    "papermill": {
     "duration": 0.035718,
     "end_time": "2021-05-04T22:29:27.167430",
     "exception": false,
     "start_time": "2021-05-04T22:29:27.131712",
     "status": "completed"
    },
    "tags": []
   },
   "outputs": [
    {
     "data": {
      "text/html": [
       "<div>\n",
       "<style scoped>\n",
       "    .dataframe tbody tr th:only-of-type {\n",
       "        vertical-align: middle;\n",
       "    }\n",
       "\n",
       "    .dataframe tbody tr th {\n",
       "        vertical-align: top;\n",
       "    }\n",
       "\n",
       "    .dataframe thead th {\n",
       "        text-align: right;\n",
       "    }\n",
       "</style>\n",
       "<table border=\"1\" class=\"dataframe\">\n",
       "  <thead>\n",
       "    <tr style=\"text-align: right;\">\n",
       "      <th></th>\n",
       "      <th>pH</th>\n",
       "      <th>Temprature</th>\n",
       "      <th>Taste</th>\n",
       "      <th>Odor</th>\n",
       "      <th>Fat</th>\n",
       "      <th>Turbidity</th>\n",
       "      <th>Colour</th>\n",
       "      <th>Grade</th>\n",
       "      <th>gradeWord</th>\n",
       "    </tr>\n",
       "  </thead>\n",
       "  <tbody>\n",
       "    <tr>\n",
       "      <th>0</th>\n",
       "      <td>6.6</td>\n",
       "      <td>35</td>\n",
       "      <td>1</td>\n",
       "      <td>0</td>\n",
       "      <td>1</td>\n",
       "      <td>0</td>\n",
       "      <td>254</td>\n",
       "      <td>1.0</td>\n",
       "      <td>Good</td>\n",
       "    </tr>\n",
       "    <tr>\n",
       "      <th>1</th>\n",
       "      <td>6.6</td>\n",
       "      <td>36</td>\n",
       "      <td>0</td>\n",
       "      <td>1</td>\n",
       "      <td>0</td>\n",
       "      <td>1</td>\n",
       "      <td>253</td>\n",
       "      <td>1.0</td>\n",
       "      <td>Good</td>\n",
       "    </tr>\n",
       "    <tr>\n",
       "      <th>2</th>\n",
       "      <td>8.5</td>\n",
       "      <td>70</td>\n",
       "      <td>1</td>\n",
       "      <td>1</td>\n",
       "      <td>1</td>\n",
       "      <td>1</td>\n",
       "      <td>246</td>\n",
       "      <td>0.0</td>\n",
       "      <td>Bad</td>\n",
       "    </tr>\n",
       "    <tr>\n",
       "      <th>3</th>\n",
       "      <td>9.5</td>\n",
       "      <td>34</td>\n",
       "      <td>1</td>\n",
       "      <td>1</td>\n",
       "      <td>0</td>\n",
       "      <td>1</td>\n",
       "      <td>255</td>\n",
       "      <td>0.0</td>\n",
       "      <td>Bad</td>\n",
       "    </tr>\n",
       "    <tr>\n",
       "      <th>4</th>\n",
       "      <td>6.6</td>\n",
       "      <td>37</td>\n",
       "      <td>0</td>\n",
       "      <td>0</td>\n",
       "      <td>0</td>\n",
       "      <td>0</td>\n",
       "      <td>255</td>\n",
       "      <td>0.5</td>\n",
       "      <td>Moderate</td>\n",
       "    </tr>\n",
       "  </tbody>\n",
       "</table>\n",
       "</div>"
      ],
      "text/plain": [
       "    pH  Temprature  Taste  Odor  Fat   Turbidity  Colour  Grade gradeWord\n",
       "0  6.6          35      1     0     1          0     254    1.0      Good\n",
       "1  6.6          36      0     1     0          1     253    1.0      Good\n",
       "2  8.5          70      1     1     1          1     246    0.0       Bad\n",
       "3  9.5          34      1     1     0          1     255    0.0       Bad\n",
       "4  6.6          37      0     0     0          0     255    0.5  Moderate"
      ]
     },
     "execution_count": 13,
     "metadata": {},
     "output_type": "execute_result"
    }
   ],
   "source": [
    "milk[\"gradeWord\"] = milk[\"Grade\"].apply(lambda x: \"Good\" if x==1 else (\"Moderate\" if x==0.5 else \"Bad\") ) #Put the grade into words\n",
    "\n",
    "milk.head() #Take a peek at the dataset"
   ]
  },
  {
   "cell_type": "markdown",
   "metadata": {
    "papermill": {
     "duration": 0.016676,
     "end_time": "2021-05-04T22:29:27.201815",
     "exception": false,
     "start_time": "2021-05-04T22:29:27.185139",
     "status": "completed"
    },
    "tags": []
   },
   "source": [
    "---"
   ]
  },
  {
   "cell_type": "markdown",
   "metadata": {
    "papermill": {
     "duration": 0.016556,
     "end_time": "2021-05-04T22:29:27.235349",
     "exception": false,
     "start_time": "2021-05-04T22:29:27.218793",
     "status": "completed"
    },
    "tags": []
   },
   "source": [
    "# Basic Exploration"
   ]
  },
  {
   "cell_type": "markdown",
   "metadata": {
    "papermill": {
     "duration": 0.016303,
     "end_time": "2021-05-04T22:29:27.268675",
     "exception": false,
     "start_time": "2021-05-04T22:29:27.252372",
     "status": "completed"
    },
    "tags": []
   },
   "source": [
    "## Number of Rows"
   ]
  },
  {
   "cell_type": "code",
   "execution_count": 14,
   "metadata": {
    "execution": {
     "iopub.execute_input": "2021-05-04T22:29:27.305345Z",
     "iopub.status.busy": "2021-05-04T22:29:27.304710Z",
     "iopub.status.idle": "2021-05-04T22:29:27.311194Z",
     "shell.execute_reply": "2021-05-04T22:29:27.311614Z"
    },
    "papermill": {
     "duration": 0.026462,
     "end_time": "2021-05-04T22:29:27.311821",
     "exception": false,
     "start_time": "2021-05-04T22:29:27.285359",
     "status": "completed"
    },
    "tags": []
   },
   "outputs": [
    {
     "name": "stdout",
     "output_type": "stream",
     "text": [
      "1059\n"
     ]
    }
   ],
   "source": [
    "print(len(milk.index)) #Check the number of rows"
   ]
  },
  {
   "cell_type": "code",
   "execution_count": 18,
   "metadata": {},
   "outputs": [
    {
     "data": {
      "text/plain": [
       "<bound method DataFrame.info of        pH  Temprature  Taste  Odor  Fat   Turbidity  Colour  Grade\n",
       "0     6.6          35      1     0     1          0     254    1.0\n",
       "1     6.6          36      0     1     0          1     253    1.0\n",
       "2     8.5          70      1     1     1          1     246    0.0\n",
       "3     9.5          34      1     1     0          1     255    0.0\n",
       "4     6.6          37      0     0     0          0     255    0.5\n",
       "...   ...         ...    ...   ...   ...        ...     ...    ...\n",
       "1054  6.7          45      1     1     0          0     247    0.5\n",
       "1055  6.7          38      1     0     1          0     255    1.0\n",
       "1056  3.0          40      1     1     1          1     255    0.0\n",
       "1057  6.8          43      1     0     1          0     250    1.0\n",
       "1058  8.6          55      0     1     1          1     255    0.0\n",
       "\n",
       "[1059 rows x 8 columns]>"
      ]
     },
     "execution_count": 18,
     "metadata": {},
     "output_type": "execute_result"
    }
   ],
   "source": [
    "milk.info"
   ]
  },
  {
   "cell_type": "code",
   "execution_count": 17,
   "metadata": {},
   "outputs": [
    {
     "data": {
      "text/html": [
       "<div>\n",
       "<style scoped>\n",
       "    .dataframe tbody tr th:only-of-type {\n",
       "        vertical-align: middle;\n",
       "    }\n",
       "\n",
       "    .dataframe tbody tr th {\n",
       "        vertical-align: top;\n",
       "    }\n",
       "\n",
       "    .dataframe thead th {\n",
       "        text-align: right;\n",
       "    }\n",
       "</style>\n",
       "<table border=\"1\" class=\"dataframe\">\n",
       "  <thead>\n",
       "    <tr style=\"text-align: right;\">\n",
       "      <th></th>\n",
       "      <th>pH</th>\n",
       "      <th>Temprature</th>\n",
       "      <th>Taste</th>\n",
       "      <th>Odor</th>\n",
       "      <th>Fat</th>\n",
       "      <th>Turbidity</th>\n",
       "      <th>Colour</th>\n",
       "      <th>Grade</th>\n",
       "    </tr>\n",
       "  </thead>\n",
       "  <tbody>\n",
       "    <tr>\n",
       "      <th>count</th>\n",
       "      <td>1059.000000</td>\n",
       "      <td>1059.000000</td>\n",
       "      <td>1059.000000</td>\n",
       "      <td>1059.000000</td>\n",
       "      <td>1059.000000</td>\n",
       "      <td>1059.000000</td>\n",
       "      <td>1059.000000</td>\n",
       "      <td>1059.000000</td>\n",
       "    </tr>\n",
       "    <tr>\n",
       "      <th>mean</th>\n",
       "      <td>6.630123</td>\n",
       "      <td>44.226629</td>\n",
       "      <td>0.546742</td>\n",
       "      <td>0.432483</td>\n",
       "      <td>0.671388</td>\n",
       "      <td>0.491029</td>\n",
       "      <td>251.840415</td>\n",
       "      <td>0.418319</td>\n",
       "    </tr>\n",
       "    <tr>\n",
       "      <th>std</th>\n",
       "      <td>1.399679</td>\n",
       "      <td>10.098364</td>\n",
       "      <td>0.498046</td>\n",
       "      <td>0.495655</td>\n",
       "      <td>0.469930</td>\n",
       "      <td>0.500156</td>\n",
       "      <td>4.307424</td>\n",
       "      <td>0.393934</td>\n",
       "    </tr>\n",
       "    <tr>\n",
       "      <th>min</th>\n",
       "      <td>3.000000</td>\n",
       "      <td>34.000000</td>\n",
       "      <td>0.000000</td>\n",
       "      <td>0.000000</td>\n",
       "      <td>0.000000</td>\n",
       "      <td>0.000000</td>\n",
       "      <td>240.000000</td>\n",
       "      <td>0.000000</td>\n",
       "    </tr>\n",
       "    <tr>\n",
       "      <th>25%</th>\n",
       "      <td>6.500000</td>\n",
       "      <td>38.000000</td>\n",
       "      <td>0.000000</td>\n",
       "      <td>0.000000</td>\n",
       "      <td>0.000000</td>\n",
       "      <td>0.000000</td>\n",
       "      <td>250.000000</td>\n",
       "      <td>0.000000</td>\n",
       "    </tr>\n",
       "    <tr>\n",
       "      <th>50%</th>\n",
       "      <td>6.700000</td>\n",
       "      <td>41.000000</td>\n",
       "      <td>1.000000</td>\n",
       "      <td>0.000000</td>\n",
       "      <td>1.000000</td>\n",
       "      <td>0.000000</td>\n",
       "      <td>255.000000</td>\n",
       "      <td>0.500000</td>\n",
       "    </tr>\n",
       "    <tr>\n",
       "      <th>75%</th>\n",
       "      <td>6.800000</td>\n",
       "      <td>45.000000</td>\n",
       "      <td>1.000000</td>\n",
       "      <td>1.000000</td>\n",
       "      <td>1.000000</td>\n",
       "      <td>1.000000</td>\n",
       "      <td>255.000000</td>\n",
       "      <td>0.500000</td>\n",
       "    </tr>\n",
       "    <tr>\n",
       "      <th>max</th>\n",
       "      <td>9.500000</td>\n",
       "      <td>90.000000</td>\n",
       "      <td>1.000000</td>\n",
       "      <td>1.000000</td>\n",
       "      <td>1.000000</td>\n",
       "      <td>1.000000</td>\n",
       "      <td>255.000000</td>\n",
       "      <td>1.000000</td>\n",
       "    </tr>\n",
       "  </tbody>\n",
       "</table>\n",
       "</div>"
      ],
      "text/plain": [
       "                pH   Temprature        Taste         Odor         Fat   \\\n",
       "count  1059.000000  1059.000000  1059.000000  1059.000000  1059.000000   \n",
       "mean      6.630123    44.226629     0.546742     0.432483     0.671388   \n",
       "std       1.399679    10.098364     0.498046     0.495655     0.469930   \n",
       "min       3.000000    34.000000     0.000000     0.000000     0.000000   \n",
       "25%       6.500000    38.000000     0.000000     0.000000     0.000000   \n",
       "50%       6.700000    41.000000     1.000000     0.000000     1.000000   \n",
       "75%       6.800000    45.000000     1.000000     1.000000     1.000000   \n",
       "max       9.500000    90.000000     1.000000     1.000000     1.000000   \n",
       "\n",
       "         Turbidity       Colour        Grade  \n",
       "count  1059.000000  1059.000000  1059.000000  \n",
       "mean      0.491029   251.840415     0.418319  \n",
       "std       0.500156     4.307424     0.393934  \n",
       "min       0.000000   240.000000     0.000000  \n",
       "25%       0.000000   250.000000     0.000000  \n",
       "50%       0.000000   255.000000     0.500000  \n",
       "75%       1.000000   255.000000     0.500000  \n",
       "max       1.000000   255.000000     1.000000  "
      ]
     },
     "execution_count": 17,
     "metadata": {},
     "output_type": "execute_result"
    }
   ],
   "source": [
    "milk.describe()"
   ]
  },
  {
   "cell_type": "code",
   "execution_count": 21,
   "metadata": {},
   "outputs": [
    {
     "data": {
      "image/png": "[encoded data removed]",
      "text/plain": [
       "<Figure size 1500x1000 with 1 Axes>"
      ]
     },
     "metadata": {},
     "output_type": "display_data"
    }
   ],
   "source": [
    "#univariate analysis\n",
    "sns.histplot(milk['Temprature'])\n",
    "plt.title('Colour')\n",
    "plt.show()"
   ]
  },
  {
   "cell_type": "code",
   "execution_count": 42,
   "metadata": {},
   "outputs": [
    {
     "data": {
      "image/png": "[encoded data removed]",
      "text/plain": [
       "<Figure size 1500x1000 with 1 Axes>"
      ]
     },
     "metadata": {},
     "output_type": "display_data"
    },
    {
     "data": {
      "text/plain": [
       "<Figure size 600x500 with 0 Axes>"
      ]
     },
     "metadata": {},
     "output_type": "display_data"
    }
   ],
   "source": [
    "\n",
    "\n",
    "x=\"Temprature\"\n",
    "y=\"Grade\"\n",
    "hue=\"Taste\"\n",
    "def countplot_of_2(x,hue,title=None, figsize=(6,5)):\n",
    "    plt.figure(figsize=figsize)\n",
    "#sns.countplot(milk=milk[[x,hue]],x=x,hue=hue)\n",
    "plt.title('title')\n",
    "plt.show()\n",
    "\n",
    "countplot_of_2('Grade', 'Temprature', 'Good/Bad/Moderate Vs 40/55')"
   ]
  },
  {
   "cell_type": "code",
   "execution_count": 40,
   "metadata": {},
   "outputs": [
    {
     "name": "stderr",
     "output_type": "stream",
     "text": [
      "C:\\tools\\Anaconda3\\lib\\site-packages\\seaborn\\categorical.py:3544: UserWarning: 65.0% of the points cannot be placed; you may want to decrease the size of the markers or use stripplot.\n",
      "  warnings.warn(msg, UserWarning)\n",
      "C:\\tools\\Anaconda3\\lib\\site-packages\\seaborn\\categorical.py:3544: UserWarning: 39.1% of the points cannot be placed; you may want to decrease the size of the markers or use stripplot.\n",
      "  warnings.warn(msg, UserWarning)\n",
      "C:\\tools\\Anaconda3\\lib\\site-packages\\seaborn\\categorical.py:3544: UserWarning: 78.8% of the points cannot be placed; you may want to decrease the size of the markers or use stripplot.\n",
      "  warnings.warn(msg, UserWarning)\n",
      "C:\\tools\\Anaconda3\\lib\\site-packages\\seaborn\\categorical.py:3544: UserWarning: 80.7% of the points cannot be placed; you may want to decrease the size of the markers or use stripplot.\n",
      "  warnings.warn(msg, UserWarning)\n",
      "C:\\tools\\Anaconda3\\lib\\site-packages\\seaborn\\categorical.py:3544: UserWarning: 88.3% of the points cannot be placed; you may want to decrease the size of the markers or use stripplot.\n",
      "  warnings.warn(msg, UserWarning)\n",
      "C:\\tools\\Anaconda3\\lib\\site-packages\\seaborn\\categorical.py:3544: UserWarning: 84.1% of the points cannot be placed; you may want to decrease the size of the markers or use stripplot.\n",
      "  warnings.warn(msg, UserWarning)\n",
      "C:\\tools\\Anaconda3\\lib\\site-packages\\seaborn\\categorical.py:3544: UserWarning: 73.3% of the points cannot be placed; you may want to decrease the size of the markers or use stripplot.\n",
      "  warnings.warn(msg, UserWarning)\n",
      "C:\\tools\\Anaconda3\\lib\\site-packages\\seaborn\\categorical.py:3544: UserWarning: 79.2% of the points cannot be placed; you may want to decrease the size of the markers or use stripplot.\n",
      "  warnings.warn(msg, UserWarning)\n",
      "C:\\tools\\Anaconda3\\lib\\site-packages\\seaborn\\categorical.py:3544: UserWarning: 90.4% of the points cannot be placed; you may want to decrease the size of the markers or use stripplot.\n",
      "  warnings.warn(msg, UserWarning)\n",
      "C:\\tools\\Anaconda3\\lib\\site-packages\\seaborn\\categorical.py:3544: UserWarning: 87.9% of the points cannot be placed; you may want to decrease the size of the markers or use stripplot.\n",
      "  warnings.warn(msg, UserWarning)\n",
      "C:\\tools\\Anaconda3\\lib\\site-packages\\seaborn\\categorical.py:3544: UserWarning: 85.4% of the points cannot be placed; you may want to decrease the size of the markers or use stripplot.\n",
      "  warnings.warn(msg, UserWarning)\n",
      "C:\\tools\\Anaconda3\\lib\\site-packages\\seaborn\\categorical.py:3544: UserWarning: 61.1% of the points cannot be placed; you may want to decrease the size of the markers or use stripplot.\n",
      "  warnings.warn(msg, UserWarning)\n",
      "C:\\tools\\Anaconda3\\lib\\site-packages\\seaborn\\categorical.py:3544: UserWarning: 68.2% of the points cannot be placed; you may want to decrease the size of the markers or use stripplot.\n",
      "  warnings.warn(msg, UserWarning)\n",
      "C:\\tools\\Anaconda3\\lib\\site-packages\\seaborn\\categorical.py:3544: UserWarning: 70.8% of the points cannot be placed; you may want to decrease the size of the markers or use stripplot.\n",
      "  warnings.warn(msg, UserWarning)\n",
      "C:\\tools\\Anaconda3\\lib\\site-packages\\seaborn\\categorical.py:3544: UserWarning: 58.8% of the points cannot be placed; you may want to decrease the size of the markers or use stripplot.\n",
      "  warnings.warn(msg, UserWarning)\n"
     ]
    },
    {
     "data": {
      "text/plain": [
       "<Axes: xlabel='Temprature', ylabel='Grade'>"
      ]
     },
     "execution_count": 40,
     "metadata": {},
     "output_type": "execute_result"
    },
    {
     "data": {
      "image/png": "[encoded data removed]",
      "text/plain": [
       "<Figure size 1500x1000 with 1 Axes>"
      ]
     },
     "metadata": {},
     "output_type": "display_data"
    }
   ],
   "source": [
    "\n",
    "sns.swarmplot(x=\"Temprature\",y=\"Grade\",hue=\"Taste\", data=milk)"
   ]
  },
  {
   "cell_type": "markdown",
   "metadata": {
    "papermill": {
     "duration": 0.016737,
     "end_time": "2021-05-04T22:29:27.347066",
     "exception": false,
     "start_time": "2021-05-04T22:29:27.330329",
     "status": "completed"
    },
    "tags": []
   },
   "source": [
    "There are only 1059 entries."
   ]
  },
  {
   "cell_type": "markdown",
   "metadata": {
    "papermill": {
     "duration": 0.016697,
     "end_time": "2021-05-04T22:29:27.380831",
     "exception": false,
     "start_time": "2021-05-04T22:29:27.364134",
     "status": "completed"
    },
    "tags": []
   },
   "source": [
    "## Count of Grades"
   ]
  },
  {
   "cell_type": "code",
   "execution_count": 15,
   "metadata": {
    "execution": {
     "iopub.execute_input": "2021-05-04T22:29:27.418624Z",
     "iopub.status.busy": "2021-05-04T22:29:27.417699Z",
     "iopub.status.idle": "2021-05-04T22:29:27.622711Z",
     "shell.execute_reply": "2021-05-04T22:29:27.622210Z"
    },
    "papermill": {
     "duration": 0.225029,
     "end_time": "2021-05-04T22:29:27.622826",
     "exception": false,
     "start_time": "2021-05-04T22:29:27.397797",
     "status": "completed"
    },
    "tags": []
   },
   "outputs": [
    {
     "data": {
      "text/plain": [
       "<Axes: title={'center': 'Milk in Each Grade'}>"
      ]
     },
     "execution_count": 15,
     "metadata": {},
     "output_type": "execute_result"
    },
    {
     "data": {
      "image/png": "[encoded data removed]",
      "text/plain": [
       "<Figure size 1500x1000 with 1 Axes>"
      ]
     },
     "metadata": {},
     "output_type": "display_data"
    }
   ],
   "source": [
    "milk[\"Grade\"].value_counts().plot.bar(title = \"Milk in Each Grade\") #Plot the number of instances of each grade"
   ]
  },
  {
   "cell_type": "markdown",
   "metadata": {
    "papermill": {
     "duration": 0.018176,
     "end_time": "2021-05-04T22:29:27.659467",
     "exception": false,
     "start_time": "2021-05-04T22:29:27.641291",
     "status": "completed"
    },
    "tags": []
   },
   "source": [
    "It appears there are more grade 0 and 0.5 milks than 1.0, but not by too much."
   ]
  },
  {
   "cell_type": "markdown",
   "metadata": {
    "papermill": {
     "duration": 0.01778,
     "end_time": "2021-05-04T22:29:27.695719",
     "exception": false,
     "start_time": "2021-05-04T22:29:27.677939",
     "status": "completed"
    },
    "tags": []
   },
   "source": [
    "## Range of Temperature/PH Values"
   ]
  },
  {
   "cell_type": "code",
   "execution_count": 7,
   "metadata": {
    "execution": {
     "iopub.execute_input": "2021-05-04T22:29:27.739715Z",
     "iopub.status.busy": "2021-05-04T22:29:27.739034Z",
     "iopub.status.idle": "2021-05-04T22:29:27.743195Z",
     "shell.execute_reply": "2021-05-04T22:29:27.742613Z"
    },
    "papermill": {
     "duration": 0.029489,
     "end_time": "2021-05-04T22:29:27.743313",
     "exception": false,
     "start_time": "2021-05-04T22:29:27.713824",
     "status": "completed"
    },
    "tags": []
   },
   "outputs": [
    {
     "name": "stdout",
     "output_type": "stream",
     "text": [
      "Temprature Range:  34 - 90\n",
      "pH Range:  3.0 - 9.5\n",
      "Colour Range:  240 - 255\n"
     ]
    }
   ],
   "source": [
    "rangeValues = [\"Temprature\", \"pH\", \"Colour\"] #Get the columns that are ranged values\n",
    "\n",
    "#For each ranged value column, print the range of the column (min and max)\n",
    "for column in rangeValues:\n",
    "    #Print the range for these columns that have ranges\n",
    "    print(column, \"Range: \", milk[column].unique().min(), \"-\", milk[column].unique().max())"
   ]
  },
  {
   "cell_type": "code",
   "execution_count": 8,
   "metadata": {
    "execution": {
     "iopub.execute_input": "2021-05-04T22:29:27.789492Z",
     "iopub.status.busy": "2021-05-04T22:29:27.788831Z",
     "iopub.status.idle": "2021-05-04T22:29:27.804436Z",
     "shell.execute_reply": "2021-05-04T22:29:27.803852Z"
    },
    "papermill": {
     "duration": 0.042845,
     "end_time": "2021-05-04T22:29:27.804569",
     "exception": false,
     "start_time": "2021-05-04T22:29:27.761724",
     "status": "completed"
    },
    "tags": []
   },
   "outputs": [
    {
     "name": "stdout",
     "output_type": "stream",
     "text": [
      "Good Temprature Range:  35 - 45\n",
      "Good pH Range:  6.5 - 6.8\n",
      "Good Colour Range:  245 - 255\n",
      "Moderate Temprature Range:  34 - 45\n",
      "Moderate pH Range:  6.4 - 6.8\n",
      "Moderate Colour Range:  240 - 255\n",
      "Bad Temprature Range:  34 - 90\n",
      "Bad pH Range:  3.0 - 9.5\n",
      "Bad Colour Range:  245 - 255\n"
     ]
    }
   ],
   "source": [
    "gradeType = [\"Good\", \"Moderate\", \"Bad\"] #Get the word names for the different grades\n",
    "\n",
    "#For each grade, get the subset of the dataset for that grade and get its pH/Temp ranges\n",
    "for grade in gradeType:\n",
    "    subset = milk.loc[milk[\"gradeWord\"] == grade] #Get the subset of the data for the specific grade\n",
    "    \n",
    "    #For each ranged value column, print the range of the column (min and max) per each grade\n",
    "    for column in rangeValues:\n",
    "        #Print the range for these columns that have ranges\n",
    "        print(grade, column, \"Range: \", subset[column].unique().min(), \"-\", subset[column].unique().max())"
   ]
  },
  {
   "cell_type": "markdown",
   "metadata": {
    "papermill": {
     "duration": 0.019091,
     "end_time": "2021-05-04T22:29:27.842664",
     "exception": false,
     "start_time": "2021-05-04T22:29:27.823573",
     "status": "completed"
    },
    "tags": []
   },
   "source": [
    "The general ranges for the whole dataset appear to be 34-90, 3-9.5, and 240-255 for temperature, pH, and colour respectively. This also appears to be the total range for bad milks in the case of temperature and pH, where both moderate and good are more restrictive in those departments yet similar to one another. This tells be there are different criteria to deciding good/moderate vs bad and good vs moderate, so those may need to have different classification models to determine the characteristics.\n",
    "\n",
    "As for colour, it seems to only come into play with moderate milks. This means it could be a factor in the difference between moderate and good, but we will have to see."
   ]
  },
  {
   "cell_type": "markdown",
   "metadata": {
    "papermill": {
     "duration": 0.0186,
     "end_time": "2021-05-04T22:29:27.880283",
     "exception": false,
     "start_time": "2021-05-04T22:29:27.861683",
     "status": "completed"
    },
    "tags": []
   },
   "source": [
    "## Plot Each Column"
   ]
  },
  {
   "cell_type": "code",
   "execution_count": 16,
   "metadata": {
    "execution": {
     "iopub.execute_input": "2021-05-04T22:29:27.932648Z",
     "iopub.status.busy": "2021-05-04T22:29:27.930915Z",
     "iopub.status.idle": "2021-05-04T22:29:29.139283Z",
     "shell.execute_reply": "2021-05-04T22:29:29.138567Z"
    },
    "papermill": {
     "duration": 1.240363,
     "end_time": "2021-05-04T22:29:29.139416",
     "exception": false,
     "start_time": "2021-05-04T22:29:27.899053",
     "status": "completed"
    },
    "tags": []
   },
   "outputs": [
    {
     "data": {
      "image/png": "[encoded data removed]",
      "text/plain": [
       "<Figure size 1000x400 with 1 Axes>"
      ]
     },
     "metadata": {},
     "output_type": "display_data"
    },
    {
     "data": {
      "image/png": "[encoded data removed]",
      "text/plain": [
       "<Figure size 1000x400 with 1 Axes>"
      ]
     },
     "metadata": {},
     "output_type": "display_data"
    },
    {
     "data": {
      "image/png": "[encoded data removed]",
      "text/plain": [
       "<Figure size 1000x400 with 1 Axes>"
      ]
     },
     "metadata": {},
     "output_type": "display_data"
    },
    {
     "data": {
      "image/png": "[encoded data removed]",
      "text/plain": [
       "<Figure size 1000x400 with 1 Axes>"
      ]
     },
     "metadata": {},
     "output_type": "display_data"
    },
    {
     "data": {
      "image/png": "[encoded data removed]",
      "text/plain": [
       "<Figure size 1000x400 with 1 Axes>"
      ]
     },
     "metadata": {},
     "output_type": "display_data"
    },
    {
     "data": {
      "image/png": "[encoded data removed]",
      "text/plain": [
       "<Figure size 1000x400 with 1 Axes>"
      ]
     },
     "metadata": {},
     "output_type": "display_data"
    },
    {
     "data": {
      "image/png": "[encoded data removed]",
      "text/plain": [
       "<Figure size 1000x400 with 1 Axes>"
      ]
     },
     "metadata": {},
     "output_type": "display_data"
    },
    {
     "data": {
      "image/png": "[encoded data removed]",
      "text/plain": [
       "<Figure size 1000x400 with 1 Axes>"
      ]
     },
     "metadata": {},
     "output_type": "display_data"
    },
    {
     "data": {
      "image/png": "[encoded data removed]",
      "text/plain": [
       "<Figure size 1000x400 with 1 Axes>"
      ]
     },
     "metadata": {},
     "output_type": "display_data"
    }
   ],
   "source": [
    "plt.rcParams['figure.figsize'] = (10,4) #Update the graph sizes\n",
    "\n",
    "#For each milk column, plot it in a bar graph\n",
    "for column in milk.columns:\n",
    "    plt.figure() #Get the figure so it will let me plot multiple\n",
    "    milk[column].value_counts().plot.bar(title = column) #Plot the specified column"
   ]
  },
  {
   "cell_type": "markdown",
   "metadata": {
    "papermill": {
     "duration": 0.023482,
     "end_time": "2021-05-04T22:29:29.187514",
     "exception": false,
     "start_time": "2021-05-04T22:29:29.164032",
     "status": "completed"
    },
    "tags": []
   },
   "source": [
    "The undiscussed columns appear to all be boolean in nature, with similar distributions of those to boot. The other variables, especially the ranged variables from earlier, have higher concentrations of values in the range used for good/moderate milk overall. "
   ]
  },
  {
   "cell_type": "markdown",
   "metadata": {
    "papermill": {
     "duration": 0.023364,
     "end_time": "2021-05-04T22:29:29.234729",
     "exception": false,
     "start_time": "2021-05-04T22:29:29.211365",
     "status": "completed"
    },
    "tags": []
   },
   "source": [
    "---"
   ]
  },
  {
   "cell_type": "markdown",
   "metadata": {
    "papermill": {
     "duration": 0.023481,
     "end_time": "2021-05-04T22:29:29.281928",
     "exception": false,
     "start_time": "2021-05-04T22:29:29.258447",
     "status": "completed"
    },
    "tags": []
   },
   "source": [
    "# Classify the Whole Dataset"
   ]
  },
  {
   "cell_type": "code",
   "execution_count": 17,
   "metadata": {
    "execution": {
     "iopub.execute_input": "2021-05-04T22:29:29.341151Z",
     "iopub.status.busy": "2021-05-04T22:29:29.340447Z",
     "iopub.status.idle": "2021-05-04T22:29:29.343370Z",
     "shell.execute_reply": "2021-05-04T22:29:29.342862Z"
    },
    "papermill": {
     "duration": 0.037924,
     "end_time": "2021-05-04T22:29:29.343503",
     "exception": false,
     "start_time": "2021-05-04T22:29:29.305579",
     "status": "completed"
    },
    "tags": []
   },
   "outputs": [],
   "source": [
    "#GetChara: Get the most important characteristics to the classification\n",
    "#Input: the characteristics, the model\n",
    "#Output: None\n",
    "def getChara(characteristics, forest):\n",
    "    attributes = characteristics.columns #Get the tested attributes\n",
    "    attributes = list(zip(attributes, forest.feature_importances_)) #Zip the attributes together with their coefficient\n",
    "    sortAtt = sorted(attributes, key = lambda x: x[1], reverse = True) #Sort the zipped attributes by their coefficients\n",
    "\n",
    "    print(\"According to the Random Forest, the most important factors for milk grade are: \") #Start printing the most important labels\n",
    "    i = 0 #Counter variable so only the top five are printed\n",
    "\n",
    "    #For each attribute in the sorted attributes\n",
    "    for label, coef in sortAtt:\n",
    "        if i < 7: #If there has not been five printed yet\n",
    "            print(label) #Print the label as an important factor\n",
    "        i += 1 #Increase i by 1\n",
    "\n",
    "#ClassifyMilk: Classify milk grade based on the labels\n",
    "#Input: The dataframe for the milk, the labels used\n",
    "#Output: None\n",
    "def classifyMilk(milk, labels):\n",
    "    grade = milk[\"gradeWord\"].copy() #Get the grades as our classification metric\n",
    "    grade = pd.get_dummies(grade) #Get dummies for the grade metric\n",
    "    print(grade)\n",
    "\n",
    "    characteristics = milk.drop(columns = {\"Grade\", \"gradeWord\"}).copy() #Get the characteristics used for classification\n",
    "    charaTrain, charaTest, gradeTrain, gradeTest = train_test_split(characteristics, grade, test_size = 0.2) #Split the dataset\n",
    "    \n",
    "    forest = RandomForestClassifier(n_estimators = 100) #Build a forest\n",
    "    forest.fit(charaTrain, gradeTrain) #Fit the forest model\n",
    "    \n",
    "    predict = forest.predict(charaTest) #Get a list of predictions\n",
    "    \n",
    "    print(\"Forest Accuracy: \", forest.score(charaTest, gradeTest)) #Print the accuracy\n",
    "    print(\"Root Mean Square Error: \", np.sqrt(mean_squared_error(gradeTest, predict))) #Print the root mean square error\n",
    "    print(\"Classification Report:\\n \", classification_report(gradeTest, predict, target_names = labels)) #Print a classification report\n",
    "    \n",
    "    getChara(characteristics, forest) #Get the important Characteristics"
   ]
  },
  {
   "cell_type": "code",
   "execution_count": 11,
   "metadata": {
    "execution": {
     "iopub.execute_input": "2021-05-04T22:29:29.397367Z",
     "iopub.status.busy": "2021-05-04T22:29:29.396453Z",
     "iopub.status.idle": "2021-05-04T22:29:29.644553Z",
     "shell.execute_reply": "2021-05-04T22:29:29.644044Z"
    },
    "papermill": {
     "duration": 0.27708,
     "end_time": "2021-05-04T22:29:29.644683",
     "exception": false,
     "start_time": "2021-05-04T22:29:29.367603",
     "status": "completed"
    },
    "tags": []
   },
   "outputs": [
    {
     "name": "stdout",
     "output_type": "stream",
     "text": [
      "      Bad  Good  Moderate\n",
      "0       0     1         0\n",
      "1       0     1         0\n",
      "2       1     0         0\n",
      "3       1     0         0\n",
      "4       0     0         1\n",
      "...   ...   ...       ...\n",
      "1054    0     0         1\n",
      "1055    0     1         0\n",
      "1056    1     0         0\n",
      "1057    0     1         0\n",
      "1058    1     0         0\n",
      "\n",
      "[1059 rows x 3 columns]\n",
      "Forest Accuracy:  1.0\n",
      "Root Mean Square Error:  0.0\n",
      "Classification Report:\n",
      "                precision    recall  f1-score   support\n",
      "\n",
      "         Bad       1.00      1.00      1.00        94\n",
      "        Good       1.00      1.00      1.00        57\n",
      "    Moderate       1.00      1.00      1.00        61\n",
      "\n",
      "   micro avg       1.00      1.00      1.00       212\n",
      "   macro avg       1.00      1.00      1.00       212\n",
      "weighted avg       1.00      1.00      1.00       212\n",
      " samples avg       1.00      1.00      1.00       212\n",
      "\n",
      "According to the Random Forest, the most important factors for milk grade are: \n",
      "pH\n",
      "Temprature\n",
      "Turbidity\n",
      "Odor\n",
      "Fat \n",
      "Colour\n",
      "Taste\n"
     ]
    }
   ],
   "source": [
    "grade = [\"Bad\", \"Good\", \"Moderate\"] #Get the grades in order\n",
    "classifyMilk(milk, grade) #Classify on the whole dataset"
   ]
  },
  {
   "cell_type": "markdown",
   "metadata": {
    "papermill": {
     "duration": 0.024551,
     "end_time": "2021-05-04T22:29:29.697238",
     "exception": false,
     "start_time": "2021-05-04T22:29:29.672687",
     "status": "completed"
    },
    "tags": []
   },
   "source": [
    "In the overall dataset (showing good/moderate versus bad), pH and Temperature come out on top as expected by looking at their ranges. Next comes Turbidity, Odor, and Fat, or rather it is considered worse if it is too foggy, too stinky, or had not enough fat."
   ]
  },
  {
   "cell_type": "markdown",
   "metadata": {
    "papermill": {
     "duration": 0.024054,
     "end_time": "2021-05-04T22:29:29.745912",
     "exception": false,
     "start_time": "2021-05-04T22:29:29.721858",
     "status": "completed"
    },
    "tags": []
   },
   "source": [
    "---"
   ]
  },
  {
   "cell_type": "markdown",
   "metadata": {
    "papermill": {
     "duration": 0.024018,
     "end_time": "2021-05-04T22:29:29.794472",
     "exception": false,
     "start_time": "2021-05-04T22:29:29.770454",
     "status": "completed"
    },
    "tags": []
   },
   "source": [
    "# Classify only Moderate and Good"
   ]
  },
  {
   "cell_type": "code",
   "execution_count": 18,
   "metadata": {
    "execution": {
     "iopub.execute_input": "2021-05-04T22:29:29.851325Z",
     "iopub.status.busy": "2021-05-04T22:29:29.850650Z",
     "iopub.status.idle": "2021-05-04T22:29:30.066287Z",
     "shell.execute_reply": "2021-05-04T22:29:30.065433Z"
    },
    "papermill": {
     "duration": 0.247202,
     "end_time": "2021-05-04T22:29:30.066463",
     "exception": false,
     "start_time": "2021-05-04T22:29:29.819261",
     "status": "completed"
    },
    "tags": []
   },
   "outputs": [
    {
     "name": "stdout",
     "output_type": "stream",
     "text": [
      "      Good  Moderate\n",
      "0        1         0\n",
      "1        1         0\n",
      "4        0         1\n",
      "5        1         0\n",
      "9        0         1\n",
      "...    ...       ...\n",
      "1050     1         0\n",
      "1052     0         1\n",
      "1054     0         1\n",
      "1055     1         0\n",
      "1057     1         0\n",
      "\n",
      "[630 rows x 2 columns]\n",
      "Forest Accuracy:  0.9841269841269841\n",
      "Root Mean Square Error:  0.12598815766974242\n",
      "Classification Report:\n",
      "                precision    recall  f1-score   support\n",
      "\n",
      "        Good       1.00      0.96      0.98        46\n",
      "    Moderate       0.98      1.00      0.99        80\n",
      "\n",
      "   micro avg       0.98      0.98      0.98       126\n",
      "   macro avg       0.99      0.98      0.98       126\n",
      "weighted avg       0.98      0.98      0.98       126\n",
      " samples avg       0.98      0.98      0.98       126\n",
      "\n",
      "According to the Random Forest, the most important factors for milk grade are: \n",
      "Fat \n",
      "pH\n",
      "Odor\n",
      "Turbidity\n",
      "Colour\n",
      "Temprature\n",
      "Taste\n"
     ]
    }
   ],
   "source": [
    "grades = [\"Good\", \"Moderate\"] #Get the grades for this classification\n",
    "milkLite = milk.loc[milk[\"gradeWord\"] != \"Bad\"] #Get all milks that are not bad\n",
    "\n",
    "classifyMilk(milkLite, grades) #Classify every milk but bad"
   ]
  },
  {
   "cell_type": "markdown",
   "metadata": {
    "papermill": {
     "duration": 0.025172,
     "end_time": "2021-05-04T22:29:30.118371",
     "exception": false,
     "start_time": "2021-05-04T22:29:30.093199",
     "status": "completed"
    },
    "tags": []
   },
   "source": [
    "pH and Temperature appeared to have more of a play when looking at bad milk rather than moderate vs good, but they do appear to still be relatively important. Fat and Odor took over when calling between moderate and good, that these are the factors to distinguish between moderate and good milk."
   ]
  },
  {
   "cell_type": "markdown",
   "metadata": {
    "papermill": {
     "duration": 0.025036,
     "end_time": "2021-05-04T22:29:30.168669",
     "exception": false,
     "start_time": "2021-05-04T22:29:30.143633",
     "status": "completed"
    },
    "tags": []
   },
   "source": [
    "---"
   ]
  },
  {
   "cell_type": "markdown",
   "metadata": {},
   "source": [
    "# Test Train Split"
   ]
  },
  {
   "cell_type": "code",
   "execution_count": 60,
   "metadata": {},
   "outputs": [
    {
     "ename": "ValueError",
     "evalue": "not enough values to unpack (expected 4, got 2)",
     "output_type": "error",
     "traceback": [
      "\u001b[1;31m---------------------------------------------------------------------------\u001b[0m",
      "\u001b[1;31mValueError\u001b[0m                                Traceback (most recent call last)",
      "Cell \u001b[1;32mIn[60], line 2\u001b[0m\n\u001b[0;32m      1\u001b[0m \u001b[38;5;28;01mfrom\u001b[39;00m \u001b[38;5;21;01msklearn\u001b[39;00m\u001b[38;5;21;01m.\u001b[39;00m\u001b[38;5;21;01mmodel_selection\u001b[39;00m \u001b[38;5;28;01mimport\u001b[39;00m train_test_split\n\u001b[1;32m----> 2\u001b[0m x_train, x_test, y_train, y_test \u001b[38;5;241m=\u001b[39m train_test_split(milk, test_size\u001b[38;5;241m=\u001b[39m \u001b[38;5;241m0.2\u001b[39m, random_state\u001b[38;5;241m=\u001b[39m\u001b[38;5;241m10\u001b[39m)\n",
      "\u001b[1;31mValueError\u001b[0m: not enough values to unpack (expected 4, got 2)"
     ]
    }
   ],
   "source": [
    "from sklearn.model_selection import train_test_split\n",
    "x_train, x_test, y_train, y_test = train_test_split(milk, test_size= 0.2, random_state=10)"
   ]
  },
  {
   "cell_type": "code",
   "execution_count": null,
   "metadata": {},
   "outputs": [],
   "source": []
  },
  {
   "cell_type": "code",
   "execution_count": null,
   "metadata": {},
   "outputs": [],
   "source": []
  },
  {
   "cell_type": "code",
   "execution_count": null,
   "metadata": {},
   "outputs": [],
   "source": []
  },
  {
   "cell_type": "markdown",
   "metadata": {
    "papermill": {
     "duration": 0.025126,
     "end_time": "2021-05-04T22:29:30.219237",
     "exception": false,
     "start_time": "2021-05-04T22:29:30.194111",
     "status": "completed"
    },
    "tags": []
   },
   "source": [
    "# Conclusion"
   ]
  },
  {
   "cell_type": "markdown",
   "metadata": {
    "papermill": {
     "duration": 0.025161,
     "end_time": "2021-05-04T22:29:30.269814",
     "exception": false,
     "start_time": "2021-05-04T22:29:30.244653",
     "status": "completed"
    },
    "tags": []
   },
   "source": []
  }
 ],
 "metadata": {
  "kernelspec": {
   "display_name": "Python 3 (ipykernel)",
   "language": "python",
   "name": "python3"
  },
  "language_info": {
   "codemirror_mode": {
    "name": "ipython",
    "version": 3
   },
   "file_extension": ".py",
   "mimetype": "text/x-python",
   "name": "python",
   "nbconvert_exporter": "python",
   "pygments_lexer": "ipython3",
   "version": "3.10.9"
  },
  "papermill": {
   "duration": 9.510884,
   "end_time": "2021-05-04T22:29:30.404007",
   "environment_variables": {},
   "exception": null,
   "input_path": "__notebook__.ipynb",
   "output_path": "__notebook__.ipynb",
   "parameters": {},
   "start_time": "2021-05-04T22:29:20.893123",
   "version": "2.1.0"
  }
 },
 "nbformat": 4,
 "nbformat_minor": 4
}
